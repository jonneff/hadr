{
 "cells": [
  {
   "cell_type": "markdown",
   "metadata": {},
   "source": [
    "# A model to classify Twitter text related to natural disasters"
   ]
  },
  {
   "cell_type": "code",
   "execution_count": 14,
   "metadata": {},
   "outputs": [],
   "source": [
    "%reload_ext autoreload\n",
    "%autoreload 2\n",
    "%matplotlib inline"
   ]
  },
  {
   "cell_type": "code",
   "execution_count": 15,
   "metadata": {},
   "outputs": [],
   "source": [
    "from fastai.text import *"
   ]
  },
  {
   "cell_type": "code",
   "execution_count": 16,
   "metadata": {},
   "outputs": [],
   "source": [
    "from glob import glob"
   ]
  },
  {
   "cell_type": "markdown",
   "metadata": {},
   "source": [
    "## Language model"
   ]
  },
  {
   "cell_type": "markdown",
   "metadata": {},
   "source": [
    "Watch batch size; language models use a lot of GPU."
   ]
  },
  {
   "cell_type": "code",
   "execution_count": 17,
   "metadata": {},
   "outputs": [],
   "source": [
    "bs=48"
   ]
  },
  {
   "cell_type": "code",
   "execution_count": 18,
   "metadata": {},
   "outputs": [],
   "source": [
    "df = pd.read_csv('/home/jmn21373/.fastai/data/CrisisNLP_labeled_data_crowdflower/2014_California_Earthquake/2014_california_eq.csv')"
   ]
  },
  {
   "cell_type": "code",
   "execution_count": 19,
   "metadata": {},
   "outputs": [],
   "source": [
    "data_lm = (TextList.from_df(df=df, cols = \"tweet_text\")\n",
    "           #Inputs: all the text files in path\n",
    "            #.filter_by_folder(exclude=['readme']) \n",
    "           # Exclude readme.txt.  Oh well.\n",
    "            .split_by_rand_pct(0.1)\n",
    "           #We randomly split and keep 10% (10,000 reviews) for validation\n",
    "            .label_for_lm()           \n",
    "           #We want to do a language model so we label accordingly\n",
    "            .databunch(bs=bs))\n",
    "data_lm.save('data_lm_crisisNLP.pkl')"
   ]
  },
  {
   "cell_type": "markdown",
   "metadata": {},
   "source": [
    "Since I didn't specify a path, it puts pickled file in the default path, which is the same as this notebook, i.e., /home/jmn21373/course-v3/nbs/dl1"
   ]
  },
  {
   "cell_type": "code",
   "execution_count": 20,
   "metadata": {},
   "outputs": [],
   "source": [
    "data_lm = load_data('/home/jmn21373/course-v3/nbs/dl1', 'data_lm_crisisNLP.pkl', bs=bs)"
   ]
  },
  {
   "cell_type": "code",
   "execution_count": 21,
   "metadata": {},
   "outputs": [],
   "source": [
    "learn = language_model_learner(data_lm, AWD_LSTM, drop_mult=0.3)"
   ]
  },
  {
   "cell_type": "code",
   "execution_count": 22,
   "metadata": {},
   "outputs": [
    {
     "data": {
      "text/plain": [
       "<bound method model_summary of LanguageLearner(data=TextLMDataBunch;\n",
       "\n",
       "Train: LabelList (1812 items)\n",
       "x: LMTextList\n",
       "xxbos xxup rt @nicoleewayne : xxmaj xxunk xxup usa xxmaj xxunk http : / / t.co / xxunk # earthquake xxup breaking xxup news xxunk earthquake xxmaj northern xxmaj california braces for xxunk ¦,xxbos xxup rt @sfgate : xxmaj we 're xxunk this interactive map of reported damage from the # xxmaj napaquake . xxmaj check it out : http : / / t.co / xxunk http : / / t.co / xxunk ¦,xxbos xxup rt xxunk : xxmaj strong 6.1 xxmaj earthquake xxmaj rocks xxmaj san xxmaj francisco xxmaj bay xxmaj area , xxmaj injures 87 + , xxmaj significant xxmaj damage xxmaj in xxmaj napa http : / / t.co / xxunk,xxbos xxup rt @heyyouapp : xxmaj xxunk xxup usa xxmaj xxunk http : / / t.co / 4lbyereec9 xxup breaking xxup news xxunk earthquake 6.0 earthquake jolts xxmaj bay xxmaj area damage and at least â€ ¦,xxbos xxup rt @scullather : \" @infodude : amazing use of # bigdata from @jawbone - xxmaj how the xxmaj napa xxmaj earthquake xxmaj affected xxmaj bay xxmaj area xxmaj sleepers https : / / t.co / ssld8wqâ€ ¦\n",
       "y: LMLabelList\n",
       ",,,,\n",
       "Path: .;\n",
       "\n",
       "Valid: LabelList (201 items)\n",
       "x: LMTextList\n",
       "xxbos xxmaj quake xxmaj is xxmaj major xxmaj test for xxmaj hard - xxmaj luck xxmaj california xxmaj city : xxmaj california earthquake xxunk first major test of hard - luck c ... http : / / t.co / xxunk,xxbos xxmaj drone footage shows xxmaj napa quake damage : http : / / t.co / xxunk via xxunk,xxbos xxmaj skaters xxmaj make xxmaj best of xxmaj napa xxmaj earthquake by xxmaj shredding xxmaj buckled xxmaj streets http : / / t.co / xxunk,xxbos xxmaj what xxmaj napa xxmaj looks xxmaj like xxmaj after the xxmaj quake http : / / t.co / xxunk a strong earthquake rocked xxmaj northern xxmaj california xxunk ... http : / / t.co / xxunk,xxbos xxup rt @tyleronemo : xxup â¤ xxup can http : / / t.co / xxunk xxunk xxmaj earthquake xxmaj today xxmaj northern xxmaj california earthquake the strongest in 25 years xxunk # xxmaj xxunk ¦\n",
       "y: LMLabelList\n",
       ",,,,\n",
       "Path: .;\n",
       "\n",
       "Test: None, model=SequentialRNN(\n",
       "  (0): AWD_LSTM(\n",
       "    (encoder): Embedding(1131, 400, padding_idx=1)\n",
       "    (encoder_dp): EmbeddingDropout(\n",
       "      (emb): Embedding(1131, 400, padding_idx=1)\n",
       "    )\n",
       "    (rnns): ModuleList(\n",
       "      (0): WeightDropout(\n",
       "        (module): LSTM(400, 1150, batch_first=True)\n",
       "      )\n",
       "      (1): WeightDropout(\n",
       "        (module): LSTM(1150, 1150, batch_first=True)\n",
       "      )\n",
       "      (2): WeightDropout(\n",
       "        (module): LSTM(1150, 400, batch_first=True)\n",
       "      )\n",
       "    )\n",
       "    (input_dp): RNNDropout()\n",
       "    (hidden_dps): ModuleList(\n",
       "      (0): RNNDropout()\n",
       "      (1): RNNDropout()\n",
       "      (2): RNNDropout()\n",
       "    )\n",
       "  )\n",
       "  (1): LinearDecoder(\n",
       "    (decoder): Linear(in_features=400, out_features=1131, bias=True)\n",
       "    (output_dp): RNNDropout()\n",
       "  )\n",
       "), opt_func=functools.partial(<class 'torch.optim.adam.Adam'>, betas=(0.9, 0.99)), loss_func=FlattenedLoss of CrossEntropyLoss(), metrics=[<function accuracy at 0x7f7378092ea0>], true_wd=True, bn_wd=True, wd=0.01, train_bn=True, path=PosixPath('/home/jmn21373/course-v3/nbs/dl1'), model_dir='models', callback_fns=[functools.partial(<class 'fastai.basic_train.Recorder'>, add_time=True, silent=False)], callbacks=[RNNTrainer\n",
       "learn: LanguageLearner(data=TextLMDataBunch;\n",
       "\n",
       "Train: LabelList (1812 items)\n",
       "x: LMTextList\n",
       "xxbos xxup rt @nicoleewayne : xxmaj xxunk xxup usa xxmaj xxunk http : / / t.co / xxunk # earthquake xxup breaking xxup news xxunk earthquake xxmaj northern xxmaj california braces for xxunk ¦,xxbos xxup rt @sfgate : xxmaj we 're xxunk this interactive map of reported damage from the # xxmaj napaquake . xxmaj check it out : http : / / t.co / xxunk http : / / t.co / xxunk ¦,xxbos xxup rt xxunk : xxmaj strong 6.1 xxmaj earthquake xxmaj rocks xxmaj san xxmaj francisco xxmaj bay xxmaj area , xxmaj injures 87 + , xxmaj significant xxmaj damage xxmaj in xxmaj napa http : / / t.co / xxunk,xxbos xxup rt @heyyouapp : xxmaj xxunk xxup usa xxmaj xxunk http : / / t.co / 4lbyereec9 xxup breaking xxup news xxunk earthquake 6.0 earthquake jolts xxmaj bay xxmaj area damage and at least â€ ¦,xxbos xxup rt @scullather : \" @infodude : amazing use of # bigdata from @jawbone - xxmaj how the xxmaj napa xxmaj earthquake xxmaj affected xxmaj bay xxmaj area xxmaj sleepers https : / / t.co / ssld8wqâ€ ¦\n",
       "y: LMLabelList\n",
       ",,,,\n",
       "Path: .;\n",
       "\n",
       "Valid: LabelList (201 items)\n",
       "x: LMTextList\n",
       "xxbos xxmaj quake xxmaj is xxmaj major xxmaj test for xxmaj hard - xxmaj luck xxmaj california xxmaj city : xxmaj california earthquake xxunk first major test of hard - luck c ... http : / / t.co / xxunk,xxbos xxmaj drone footage shows xxmaj napa quake damage : http : / / t.co / xxunk via xxunk,xxbos xxmaj skaters xxmaj make xxmaj best of xxmaj napa xxmaj earthquake by xxmaj shredding xxmaj buckled xxmaj streets http : / / t.co / xxunk,xxbos xxmaj what xxmaj napa xxmaj looks xxmaj like xxmaj after the xxmaj quake http : / / t.co / xxunk a strong earthquake rocked xxmaj northern xxmaj california xxunk ... http : / / t.co / xxunk,xxbos xxup rt @tyleronemo : xxup â¤ xxup can http : / / t.co / xxunk xxunk xxmaj earthquake xxmaj today xxmaj northern xxmaj california earthquake the strongest in 25 years xxunk # xxmaj xxunk ¦\n",
       "y: LMLabelList\n",
       ",,,,\n",
       "Path: .;\n",
       "\n",
       "Test: None, model=SequentialRNN(\n",
       "  (0): AWD_LSTM(\n",
       "    (encoder): Embedding(1131, 400, padding_idx=1)\n",
       "    (encoder_dp): EmbeddingDropout(\n",
       "      (emb): Embedding(1131, 400, padding_idx=1)\n",
       "    )\n",
       "    (rnns): ModuleList(\n",
       "      (0): WeightDropout(\n",
       "        (module): LSTM(400, 1150, batch_first=True)\n",
       "      )\n",
       "      (1): WeightDropout(\n",
       "        (module): LSTM(1150, 1150, batch_first=True)\n",
       "      )\n",
       "      (2): WeightDropout(\n",
       "        (module): LSTM(1150, 400, batch_first=True)\n",
       "      )\n",
       "    )\n",
       "    (input_dp): RNNDropout()\n",
       "    (hidden_dps): ModuleList(\n",
       "      (0): RNNDropout()\n",
       "      (1): RNNDropout()\n",
       "      (2): RNNDropout()\n",
       "    )\n",
       "  )\n",
       "  (1): LinearDecoder(\n",
       "    (decoder): Linear(in_features=400, out_features=1131, bias=True)\n",
       "    (output_dp): RNNDropout()\n",
       "  )\n",
       "), opt_func=functools.partial(<class 'torch.optim.adam.Adam'>, betas=(0.9, 0.99)), loss_func=FlattenedLoss of CrossEntropyLoss(), metrics=[<function accuracy at 0x7f7378092ea0>], true_wd=True, bn_wd=True, wd=0.01, train_bn=True, path=PosixPath('/home/jmn21373/course-v3/nbs/dl1'), model_dir='models', callback_fns=[functools.partial(<class 'fastai.basic_train.Recorder'>, add_time=True, silent=False)], callbacks=[...], layer_groups=[Sequential(\n",
       "  (0): WeightDropout(\n",
       "    (module): LSTM(400, 1150, batch_first=True)\n",
       "  )\n",
       "  (1): RNNDropout()\n",
       "), Sequential(\n",
       "  (0): WeightDropout(\n",
       "    (module): LSTM(1150, 1150, batch_first=True)\n",
       "  )\n",
       "  (1): RNNDropout()\n",
       "), Sequential(\n",
       "  (0): WeightDropout(\n",
       "    (module): LSTM(1150, 400, batch_first=True)\n",
       "  )\n",
       "  (1): RNNDropout()\n",
       "), Sequential(\n",
       "  (0): Embedding(1131, 400, padding_idx=1)\n",
       "  (1): EmbeddingDropout(\n",
       "    (emb): Embedding(1131, 400, padding_idx=1)\n",
       "  )\n",
       "  (2): LinearDecoder(\n",
       "    (decoder): Linear(in_features=400, out_features=1131, bias=True)\n",
       "    (output_dp): RNNDropout()\n",
       "  )\n",
       ")], add_time=True, silent=False)\n",
       "alpha: 2.0\n",
       "beta: 1.0], layer_groups=[Sequential(\n",
       "  (0): WeightDropout(\n",
       "    (module): LSTM(400, 1150, batch_first=True)\n",
       "  )\n",
       "  (1): RNNDropout()\n",
       "), Sequential(\n",
       "  (0): WeightDropout(\n",
       "    (module): LSTM(1150, 1150, batch_first=True)\n",
       "  )\n",
       "  (1): RNNDropout()\n",
       "), Sequential(\n",
       "  (0): WeightDropout(\n",
       "    (module): LSTM(1150, 400, batch_first=True)\n",
       "  )\n",
       "  (1): RNNDropout()\n",
       "), Sequential(\n",
       "  (0): Embedding(1131, 400, padding_idx=1)\n",
       "  (1): EmbeddingDropout(\n",
       "    (emb): Embedding(1131, 400, padding_idx=1)\n",
       "  )\n",
       "  (2): LinearDecoder(\n",
       "    (decoder): Linear(in_features=400, out_features=1131, bias=True)\n",
       "    (output_dp): RNNDropout()\n",
       "  )\n",
       ")], add_time=True, silent=False)>"
      ]
     },
     "execution_count": 22,
     "metadata": {},
     "output_type": "execute_result"
    }
   ],
   "source": [
    "learn.summary"
   ]
  },
  {
   "cell_type": "code",
   "execution_count": 19,
   "metadata": {
    "scrolled": true
   },
   "outputs": [
    {
     "data": {
      "text/html": [],
      "text/plain": [
       "<IPython.core.display.HTML object>"
      ]
     },
     "metadata": {},
     "output_type": "display_data"
    },
    {
     "name": "stdout",
     "output_type": "stream",
     "text": [
      "LR Finder is complete, type {learner_name}.recorder.plot() to see the graph.\n"
     ]
    }
   ],
   "source": [
    "learn.lr_find()"
   ]
  },
  {
   "cell_type": "code",
   "execution_count": 20,
   "metadata": {},
   "outputs": [
    {
     "data": {
      "image/png": "[encoded data removed]",
      "text/plain": [
       "<Figure size 432x288 with 1 Axes>"
      ]
     },
     "metadata": {
      "needs_background": "light"
     },
     "output_type": "display_data"
    }
   ],
   "source": [
    "learn.recorder.plot()"
   ]
  },
  {
   "cell_type": "code",
   "execution_count": 23,
   "metadata": {},
   "outputs": [],
   "source": [
    "bs =48"
   ]
  },
  {
   "cell_type": "code",
   "execution_count": 24,
   "metadata": {
    "scrolled": true
   },
   "outputs": [
    {
     "data": {
      "text/html": [
       "Total time: 00:02 <p><table border=\"1\" class=\"dataframe\">\n",
       "  <thead>\n",
       "    <tr style=\"text-align: left;\">\n",
       "      <th>epoch</th>\n",
       "      <th>train_loss</th>\n",
       "      <th>valid_loss</th>\n",
       "      <th>accuracy</th>\n",
       "      <th>time</th>\n",
       "    </tr>\n",
       "  </thead>\n",
       "  <tbody>\n",
       "    <tr>\n",
       "      <td>0</td>\n",
       "      <td>3.304577</td>\n",
       "      <td>2.266029</td>\n",
       "      <td>0.537202</td>\n",
       "      <td>00:02</td>\n",
       "    </tr>\n",
       "  </tbody>\n",
       "</table>"
      ],
      "text/plain": [
       "<IPython.core.display.HTML object>"
      ]
     },
     "metadata": {},
     "output_type": "display_data"
    }
   ],
   "source": [
    "learn.fit_one_cycle(1, 1e-1, moms=(0.8,0.7))\n",
    "learn.save('fit_head')"
   ]
  },
  {
   "cell_type": "code",
   "execution_count": null,
   "metadata": {},
   "outputs": [],
   "source": [
    "# After fit one cycle is done, try running this to return accuracy and see if it matches:\n",
    "learn.validate()"
   ]
  },
  {
   "cell_type": "markdown",
   "metadata": {},
   "source": [
    "53% accuracy is actually a very good result.  Generic models get 30% and specialized models can get 50% or so.  "
   ]
  },
  {
   "cell_type": "code",
   "execution_count": 25,
   "metadata": {},
   "outputs": [],
   "source": [
    "learn.save_encoder('crude_enc')"
   ]
  },
  {
   "cell_type": "markdown",
   "metadata": {},
   "source": [
    "## Classifier"
   ]
  },
  {
   "cell_type": "code",
   "execution_count": 26,
   "metadata": {},
   "outputs": [],
   "source": [
    "bs = 96"
   ]
  },
  {
   "cell_type": "markdown",
   "metadata": {},
   "source": [
    "Whoops.  Got a NaN error first time I ran this because I did not drop the rows with NaN in the \"text_human\" label.  Oops.  I knew that, just forgot."
   ]
  },
  {
   "cell_type": "code",
   "execution_count": 27,
   "metadata": {},
   "outputs": [],
   "source": [
    "df.dropna(subset=['choose_one_category'], inplace=True)"
   ]
  },
  {
   "cell_type": "code",
   "execution_count": 28,
   "metadata": {},
   "outputs": [],
   "source": [
    "data_clas = (TextList.from_df(df=df, cols = \"tweet_text\", vocab=data_lm.vocab)\n",
    "           .split_by_rand_pct(0.1)\n",
    "           #We split by Boolean in is_valid column (True or False)\n",
    "           .label_from_df(cols= \"choose_one_category\")          \n",
    "           #We label based on rating on Amazon (number of stars)\n",
    "           .databunch(bs=bs)\n",
    "            )"
   ]
  },
  {
   "cell_type": "code",
   "execution_count": 29,
   "metadata": {},
   "outputs": [
    {
     "data": {
      "text/html": [
       "<table border=\"1\" class=\"dataframe\">\n",
       "  <thead>\n",
       "    <tr style=\"text-align: right;\">\n",
       "      <th>text</th>\n",
       "      <th>target</th>\n",
       "    </tr>\n",
       "  </thead>\n",
       "  <tbody>\n",
       "    <tr>\n",
       "      <td>xxbos xxup rt xxunk : xxmaj xxunk xxup us xxunk xxmaj xxunk with xxup xxunk for xxmaj xxunk # xxmaj xxunk # xxmaj xxunk # xxmaj xxunk # xxup usa # xxmaj xxunk # xxup uk # xxup us # napaquake # xxunk http : / / t.co / â€ ¦</td>\n",
       "      <td>not_related_or_irrelevant</td>\n",
       "    </tr>\n",
       "    <tr>\n",
       "      <td>xxbos [ [ xxunk ™ ¥ # xxunk ™ ¥ ] ] xxup n. xxmaj california xxmaj earthquake xxmaj damage xxmaj could xxmaj reach $ xxup 1b : xxmaj northern xxmaj cali ... http : / / t.co / xxunk [ [ xxunk ™ ¥ # xxunk ™ ¥ ] ]</td>\n",
       "      <td>other_useful_information</td>\n",
       "    </tr>\n",
       "    <tr>\n",
       "      <td>xxbos xxup rt @fabiankeiser : xxmaj the xxmaj ring of xxmaj fire gets angry ? xxmaj yesterday # xxmaj earthquake in # xxmaj chile ( 6.6 ) . xxmaj today in # xxmaj california ( 6.0 ) and now # xxmaj peru ( 7.0 ) . http : â€ ¦</td>\n",
       "      <td>other_useful_information</td>\n",
       "    </tr>\n",
       "    <tr>\n",
       "      <td>xxbos xxup rt @fabiankeiser : xxmaj the xxmaj ring of xxmaj fire gets angry ? xxmaj yesterday # xxmaj earthquake in # xxmaj chile ( 6.6 ) . xxmaj today in # xxmaj california ( 6.0 ) and now # xxmaj peru ( 7.0 ) . http : â€ ¦</td>\n",
       "      <td>other_useful_information</td>\n",
       "    </tr>\n",
       "    <tr>\n",
       "      <td>xxbos xxmaj jawbone xxmaj looks xxmaj at xxup up xxmaj data xxmaj to xxmaj see xxmaj how xxmaj many xxmaj were xxmaj woken xxmaj up xxmaj by xxmaj the xxmaj napa xxmaj earthquake : xxmaj jawbone has xxunk one of the xxunk ... http : / / t.co / xxunk</td>\n",
       "      <td>other_useful_information</td>\n",
       "    </tr>\n",
       "  </tbody>\n",
       "</table>"
      ],
      "text/plain": [
       "<IPython.core.display.HTML object>"
      ]
     },
     "metadata": {},
     "output_type": "display_data"
    }
   ],
   "source": [
    "data_clas.show_batch()"
   ]
  },
  {
   "cell_type": "code",
   "execution_count": 30,
   "metadata": {},
   "outputs": [],
   "source": [
    "learn = text_classifier_learner(data_clas, AWD_LSTM, drop_mult=0.5)\n",
    "learn.load_encoder('crude_enc')"
   ]
  },
  {
   "cell_type": "code",
   "execution_count": 31,
   "metadata": {},
   "outputs": [
    {
     "data": {
      "text/html": [],
      "text/plain": [
       "<IPython.core.display.HTML object>"
      ]
     },
     "metadata": {},
     "output_type": "display_data"
    },
    {
     "name": "stdout",
     "output_type": "stream",
     "text": [
      "LR Finder is complete, type {learner_name}.recorder.plot() to see the graph.\n"
     ]
    }
   ],
   "source": [
    "learn.lr_find()"
   ]
  },
  {
   "cell_type": "code",
   "execution_count": 32,
   "metadata": {
    "scrolled": true
   },
   "outputs": [
    {
     "data": {
      "image/png": "[encoded data removed]",
      "text/plain": [
       "<Figure size 432x288 with 1 Axes>"
      ]
     },
     "metadata": {
      "needs_background": "light"
     },
     "output_type": "display_data"
    }
   ],
   "source": [
    "learn.recorder.plot()"
   ]
  },
  {
   "cell_type": "code",
   "execution_count": 31,
   "metadata": {},
   "outputs": [
    {
     "data": {
      "text/html": [
       "Total time: 00:02 <p><table border=\"1\" class=\"dataframe\">\n",
       "  <thead>\n",
       "    <tr style=\"text-align: left;\">\n",
       "      <th>epoch</th>\n",
       "      <th>train_loss</th>\n",
       "      <th>valid_loss</th>\n",
       "      <th>accuracy</th>\n",
       "      <th>time</th>\n",
       "    </tr>\n",
       "  </thead>\n",
       "  <tbody>\n",
       "    <tr>\n",
       "      <td>0</td>\n",
       "      <td>2.966541</td>\n",
       "      <td>3.171141</td>\n",
       "      <td>0.139303</td>\n",
       "      <td>00:02</td>\n",
       "    </tr>\n",
       "  </tbody>\n",
       "</table>"
      ],
      "text/plain": [
       "<IPython.core.display.HTML object>"
      ]
     },
     "metadata": {},
     "output_type": "display_data"
    }
   ],
   "source": [
    "learn.fit_one_cycle(1, 5e-1, moms=(0.8,0.7))"
   ]
  },
  {
   "cell_type": "code",
   "execution_count": 32,
   "metadata": {},
   "outputs": [
    {
     "data": {
      "text/html": [
       "Total time: 00:08 <p><table border=\"1\" class=\"dataframe\">\n",
       "  <thead>\n",
       "    <tr style=\"text-align: left;\">\n",
       "      <th>epoch</th>\n",
       "      <th>train_loss</th>\n",
       "      <th>valid_loss</th>\n",
       "      <th>accuracy</th>\n",
       "      <th>time</th>\n",
       "    </tr>\n",
       "  </thead>\n",
       "  <tbody>\n",
       "    <tr>\n",
       "      <td>0</td>\n",
       "      <td>1.582205</td>\n",
       "      <td>2.541943</td>\n",
       "      <td>0.308458</td>\n",
       "      <td>00:02</td>\n",
       "    </tr>\n",
       "    <tr>\n",
       "      <td>1</td>\n",
       "      <td>2.536399</td>\n",
       "      <td>9.827305</td>\n",
       "      <td>0.104478</td>\n",
       "      <td>00:02</td>\n",
       "    </tr>\n",
       "    <tr>\n",
       "      <td>2</td>\n",
       "      <td>3.380110</td>\n",
       "      <td>1.823593</td>\n",
       "      <td>0.313433</td>\n",
       "      <td>00:02</td>\n",
       "    </tr>\n",
       "    <tr>\n",
       "      <td>3</td>\n",
       "      <td>2.615143</td>\n",
       "      <td>1.328453</td>\n",
       "      <td>0.567164</td>\n",
       "      <td>00:02</td>\n",
       "    </tr>\n",
       "  </tbody>\n",
       "</table>"
      ],
      "text/plain": [
       "<IPython.core.display.HTML object>"
      ]
     },
     "metadata": {},
     "output_type": "display_data"
    }
   ],
   "source": [
    "learn.fit_one_cycle(4, 5e-1, moms=(0.8,0.7))"
   ]
  },
  {
   "cell_type": "code",
   "execution_count": 33,
   "metadata": {},
   "outputs": [
    {
     "data": {
      "text/html": [
       "Total time: 00:02 <p><table border=\"1\" class=\"dataframe\">\n",
       "  <thead>\n",
       "    <tr style=\"text-align: left;\">\n",
       "      <th>epoch</th>\n",
       "      <th>train_loss</th>\n",
       "      <th>valid_loss</th>\n",
       "      <th>accuracy</th>\n",
       "      <th>time</th>\n",
       "    </tr>\n",
       "  </thead>\n",
       "  <tbody>\n",
       "    <tr>\n",
       "      <td>0</td>\n",
       "      <td>1.310188</td>\n",
       "      <td>1.163405</td>\n",
       "      <td>0.601990</td>\n",
       "      <td>00:02</td>\n",
       "    </tr>\n",
       "  </tbody>\n",
       "</table>"
      ],
      "text/plain": [
       "<IPython.core.display.HTML object>"
      ]
     },
     "metadata": {},
     "output_type": "display_data"
    }
   ],
   "source": [
    "learn.freeze_to(-2)\n",
    "learn.fit_one_cycle(1, slice(1e-2/(2.6**4),1e-2), moms=(0.8,0.7))"
   ]
  },
  {
   "cell_type": "code",
   "execution_count": 34,
   "metadata": {},
   "outputs": [
    {
     "data": {
      "text/html": [
       "Total time: 00:08 <p><table border=\"1\" class=\"dataframe\">\n",
       "  <thead>\n",
       "    <tr style=\"text-align: left;\">\n",
       "      <th>epoch</th>\n",
       "      <th>train_loss</th>\n",
       "      <th>valid_loss</th>\n",
       "      <th>accuracy</th>\n",
       "      <th>time</th>\n",
       "    </tr>\n",
       "  </thead>\n",
       "  <tbody>\n",
       "    <tr>\n",
       "      <td>0</td>\n",
       "      <td>1.175806</td>\n",
       "      <td>1.071941</td>\n",
       "      <td>0.626866</td>\n",
       "      <td>00:02</td>\n",
       "    </tr>\n",
       "    <tr>\n",
       "      <td>1</td>\n",
       "      <td>1.188289</td>\n",
       "      <td>2.666165</td>\n",
       "      <td>0.572139</td>\n",
       "      <td>00:02</td>\n",
       "    </tr>\n",
       "    <tr>\n",
       "      <td>2</td>\n",
       "      <td>1.130666</td>\n",
       "      <td>1.040957</td>\n",
       "      <td>0.621891</td>\n",
       "      <td>00:02</td>\n",
       "    </tr>\n",
       "    <tr>\n",
       "      <td>3</td>\n",
       "      <td>1.077769</td>\n",
       "      <td>1.000748</td>\n",
       "      <td>0.671642</td>\n",
       "      <td>00:02</td>\n",
       "    </tr>\n",
       "  </tbody>\n",
       "</table>"
      ],
      "text/plain": [
       "<IPython.core.display.HTML object>"
      ]
     },
     "metadata": {},
     "output_type": "display_data"
    }
   ],
   "source": [
    "learn.fit_one_cycle(4, slice(1e-2/(2.6**4),1e-2), moms=(0.8,0.7))"
   ]
  },
  {
   "cell_type": "code",
   "execution_count": 35,
   "metadata": {},
   "outputs": [
    {
     "data": {
      "text/html": [
       "Total time: 00:02 <p><table border=\"1\" class=\"dataframe\">\n",
       "  <thead>\n",
       "    <tr style=\"text-align: left;\">\n",
       "      <th>epoch</th>\n",
       "      <th>train_loss</th>\n",
       "      <th>valid_loss</th>\n",
       "      <th>accuracy</th>\n",
       "      <th>time</th>\n",
       "    </tr>\n",
       "  </thead>\n",
       "  <tbody>\n",
       "    <tr>\n",
       "      <td>0</td>\n",
       "      <td>0.990146</td>\n",
       "      <td>0.949213</td>\n",
       "      <td>0.661692</td>\n",
       "      <td>00:02</td>\n",
       "    </tr>\n",
       "  </tbody>\n",
       "</table>"
      ],
      "text/plain": [
       "<IPython.core.display.HTML object>"
      ]
     },
     "metadata": {},
     "output_type": "display_data"
    }
   ],
   "source": [
    "learn.freeze_to(-3)\n",
    "learn.fit_one_cycle(1, slice(1e-2/(2.6**4),1e-2), moms=(0.8,0.7))"
   ]
  },
  {
   "cell_type": "code",
   "execution_count": 36,
   "metadata": {},
   "outputs": [
    {
     "data": {
      "text/html": [
       "Total time: 00:10 <p><table border=\"1\" class=\"dataframe\">\n",
       "  <thead>\n",
       "    <tr style=\"text-align: left;\">\n",
       "      <th>epoch</th>\n",
       "      <th>train_loss</th>\n",
       "      <th>valid_loss</th>\n",
       "      <th>accuracy</th>\n",
       "      <th>time</th>\n",
       "    </tr>\n",
       "  </thead>\n",
       "  <tbody>\n",
       "    <tr>\n",
       "      <td>0</td>\n",
       "      <td>0.902652</td>\n",
       "      <td>1.402444</td>\n",
       "      <td>0.716418</td>\n",
       "      <td>00:02</td>\n",
       "    </tr>\n",
       "    <tr>\n",
       "      <td>1</td>\n",
       "      <td>0.850839</td>\n",
       "      <td>0.932097</td>\n",
       "      <td>0.721393</td>\n",
       "      <td>00:02</td>\n",
       "    </tr>\n",
       "    <tr>\n",
       "      <td>2</td>\n",
       "      <td>0.812127</td>\n",
       "      <td>0.830578</td>\n",
       "      <td>0.766169</td>\n",
       "      <td>00:02</td>\n",
       "    </tr>\n",
       "    <tr>\n",
       "      <td>3</td>\n",
       "      <td>0.770328</td>\n",
       "      <td>0.825714</td>\n",
       "      <td>0.766169</td>\n",
       "      <td>00:02</td>\n",
       "    </tr>\n",
       "  </tbody>\n",
       "</table>"
      ],
      "text/plain": [
       "<IPython.core.display.HTML object>"
      ]
     },
     "metadata": {},
     "output_type": "display_data"
    }
   ],
   "source": [
    "learn.fit_one_cycle(4, slice(1e-2/(2.6**4),1e-2), moms=(0.8,0.7))"
   ]
  },
  {
   "cell_type": "markdown",
   "metadata": {},
   "source": [
    "Imran reports accuracy = 76.85 for California earthquake using event-only data in \"Rapid Classification of Crisis-Related Data on Social Networks using Convolutional Neural Networks\" In Proceedings of the 11th International AAAI Conference on Web and Social Media (ICWSM), 2017, Montreal, Canada. When he adapts and uses out of event data, he can get 80.19.  \n",
    "\n",
    "By comparison, inter-annotator agreement (agreement between human labelers) for California earthquake data is 0.85.\n",
    "\n",
    "I am getting close to SOA results with very little work. "
   ]
  },
  {
   "cell_type": "code",
   "execution_count": 37,
   "metadata": {},
   "outputs": [],
   "source": [
    "learn.save(\"fourth\")"
   ]
  },
  {
   "cell_type": "markdown",
   "metadata": {},
   "source": [
    "NOTE:  It looks like I can't get F1 score because you have to define metrics when you create the learner.  So if I wanted F1 score, I would need to declare that when I create the learner.  I think."
   ]
  },
  {
   "cell_type": "code",
   "execution_count": 39,
   "metadata": {},
   "outputs": [
    {
     "data": {
      "text/plain": [
       "True"
      ]
     },
     "execution_count": 39,
     "metadata": {},
     "output_type": "execute_result"
    }
   ],
   "source": [
    "interp = ClassificationInterpretation.from_learner(learn)\n",
    "\n",
    "losses,idxs = interp.top_losses()\n",
    "\n",
    "len(data_clas.valid_ds)==len(losses)==len(idxs)"
   ]
  },
  {
   "cell_type": "code",
   "execution_count": 40,
   "metadata": {},
   "outputs": [
    {
     "name": "stderr",
     "output_type": "stream",
     "text": [
      "/home/jmn21373/anaconda3/lib/python3.7/site-packages/matplotlib/tight_layout.py:176: UserWarning: Tight layout not applied. The left and right margins cannot be made large enough to accommodate all axes decorations. \n",
      "  warnings.warn('Tight layout not applied. The left and right margins '\n"
     ]
    },
    {
     "data": {
      "image/png": "[encoded data removed]",
      "text/plain": [
       "<Figure size 360x360 with 1 Axes>"
      ]
     },
     "metadata": {
      "needs_background": "light"
     },
     "output_type": "display_data"
    }
   ],
   "source": [
    "interp.plot_confusion_matrix(figsize=(3,3), dpi=120)"
   ]
  },
  {
   "cell_type": "code",
   "execution_count": null,
   "metadata": {},
   "outputs": [],
   "source": []
  }
 ],
 "metadata": {
  "kernelspec": {
   "display_name": "Python 3",
   "language": "python",
   "name": "python3"
  },
  "language_info": {
   "codemirror_mode": {
    "name": "ipython",
    "version": 3
   },
   "file_extension": ".py",
   "mimetype": "text/x-python",
   "name": "python",
   "nbconvert_exporter": "python",
   "pygments_lexer": "ipython3",
   "version": "3.8.5"
  }
 },
 "nbformat": 4,
 "nbformat_minor": 2
}
